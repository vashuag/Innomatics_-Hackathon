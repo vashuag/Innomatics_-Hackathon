{
 "cells": [
  {
   "cell_type": "markdown",
   "metadata": {},
   "source": [
    "Understanding Dataset"
   ]
  },
  {
   "cell_type": "code",
   "execution_count": 12,
   "metadata": {},
   "outputs": [
    {
     "name": "stdout",
     "output_type": "stream",
     "text": [
      "(9742, 3)\n",
      "(100836, 4)\n",
      "(3683, 4)\n",
      "(9742, 3)\n"
     ]
    }
   ],
   "source": [
    "import pandas as pd\n",
    "\n",
    "# Read the CSV file into a DataFrame\n",
    "df_movies = pd.read_csv('movies.csv')\n",
    "df_ratings = pd.read_csv(\"ratings.csv\")\n",
    "df_tags = pd.read_csv(\"tags.csv\")\n",
    "df_links = pd.read_csv(\"links.csv\")\n",
    "# Get the shape of the DataFrame\n",
    "movies_shape = df_movies.shape\n",
    "ratings_shape = df_ratings.shape\n",
    "tags_shape = df_tags.shape\n",
    "links_shape = df_links.shape\n",
    "\n",
    "# Print the shape of the DataFrame\n",
    "print(movies_shape)\n",
    "print(ratings_shape)\n",
    "print(tags_shape)\n",
    "print(links_shape)"
   ]
  },
  {
   "cell_type": "code",
   "execution_count": 3,
   "metadata": {},
   "outputs": [
    {
     "name": "stdout",
     "output_type": "stream",
     "text": [
      "610\n"
     ]
    }
   ],
   "source": [
    "unique_ids = df_ratings['userId'].nunique()\n",
    "print(unique_ids)\n"
   ]
  },
  {
   "cell_type": "code",
   "execution_count": 5,
   "metadata": {},
   "outputs": [
    {
     "data": {
      "text/html": [
       "<div>\n",
       "<style scoped>\n",
       "    .dataframe tbody tr th:only-of-type {\n",
       "        vertical-align: middle;\n",
       "    }\n",
       "\n",
       "    .dataframe tbody tr th {\n",
       "        vertical-align: top;\n",
       "    }\n",
       "\n",
       "    .dataframe thead th {\n",
       "        text-align: right;\n",
       "    }\n",
       "</style>\n",
       "<table border=\"1\" class=\"dataframe\">\n",
       "  <thead>\n",
       "    <tr style=\"text-align: right;\">\n",
       "      <th></th>\n",
       "      <th>userId</th>\n",
       "      <th>movieId</th>\n",
       "      <th>rating</th>\n",
       "      <th>timestamp</th>\n",
       "    </tr>\n",
       "  </thead>\n",
       "  <tbody>\n",
       "    <tr>\n",
       "      <th>0</th>\n",
       "      <td>1</td>\n",
       "      <td>1</td>\n",
       "      <td>4.0</td>\n",
       "      <td>964982703</td>\n",
       "    </tr>\n",
       "    <tr>\n",
       "      <th>1</th>\n",
       "      <td>1</td>\n",
       "      <td>3</td>\n",
       "      <td>4.0</td>\n",
       "      <td>964981247</td>\n",
       "    </tr>\n",
       "    <tr>\n",
       "      <th>2</th>\n",
       "      <td>1</td>\n",
       "      <td>6</td>\n",
       "      <td>4.0</td>\n",
       "      <td>964982224</td>\n",
       "    </tr>\n",
       "    <tr>\n",
       "      <th>3</th>\n",
       "      <td>1</td>\n",
       "      <td>47</td>\n",
       "      <td>5.0</td>\n",
       "      <td>964983815</td>\n",
       "    </tr>\n",
       "    <tr>\n",
       "      <th>4</th>\n",
       "      <td>1</td>\n",
       "      <td>50</td>\n",
       "      <td>5.0</td>\n",
       "      <td>964982931</td>\n",
       "    </tr>\n",
       "  </tbody>\n",
       "</table>\n",
       "</div>"
      ],
      "text/plain": [
       "   userId  movieId  rating  timestamp\n",
       "0       1        1     4.0  964982703\n",
       "1       1        3     4.0  964981247\n",
       "2       1        6     4.0  964982224\n",
       "3       1       47     5.0  964983815\n",
       "4       1       50     5.0  964982931"
      ]
     },
     "execution_count": 5,
     "metadata": {},
     "output_type": "execute_result"
    }
   ],
   "source": [
    "df_ratings.head()"
   ]
  },
  {
   "cell_type": "code",
   "execution_count": 6,
   "metadata": {},
   "outputs": [
    {
     "data": {
      "text/html": [
       "<div>\n",
       "<style scoped>\n",
       "    .dataframe tbody tr th:only-of-type {\n",
       "        vertical-align: middle;\n",
       "    }\n",
       "\n",
       "    .dataframe tbody tr th {\n",
       "        vertical-align: top;\n",
       "    }\n",
       "\n",
       "    .dataframe thead th {\n",
       "        text-align: right;\n",
       "    }\n",
       "</style>\n",
       "<table border=\"1\" class=\"dataframe\">\n",
       "  <thead>\n",
       "    <tr style=\"text-align: right;\">\n",
       "      <th></th>\n",
       "      <th>movieId</th>\n",
       "      <th>title</th>\n",
       "      <th>genres</th>\n",
       "    </tr>\n",
       "  </thead>\n",
       "  <tbody>\n",
       "    <tr>\n",
       "      <th>0</th>\n",
       "      <td>1</td>\n",
       "      <td>Toy Story (1995)</td>\n",
       "      <td>Adventure|Animation|Children|Comedy|Fantasy</td>\n",
       "    </tr>\n",
       "    <tr>\n",
       "      <th>1</th>\n",
       "      <td>2</td>\n",
       "      <td>Jumanji (1995)</td>\n",
       "      <td>Adventure|Children|Fantasy</td>\n",
       "    </tr>\n",
       "    <tr>\n",
       "      <th>2</th>\n",
       "      <td>3</td>\n",
       "      <td>Grumpier Old Men (1995)</td>\n",
       "      <td>Comedy|Romance</td>\n",
       "    </tr>\n",
       "    <tr>\n",
       "      <th>3</th>\n",
       "      <td>4</td>\n",
       "      <td>Waiting to Exhale (1995)</td>\n",
       "      <td>Comedy|Drama|Romance</td>\n",
       "    </tr>\n",
       "    <tr>\n",
       "      <th>4</th>\n",
       "      <td>5</td>\n",
       "      <td>Father of the Bride Part II (1995)</td>\n",
       "      <td>Comedy</td>\n",
       "    </tr>\n",
       "  </tbody>\n",
       "</table>\n",
       "</div>"
      ],
      "text/plain": [
       "   movieId                               title  \\\n",
       "0        1                    Toy Story (1995)   \n",
       "1        2                      Jumanji (1995)   \n",
       "2        3             Grumpier Old Men (1995)   \n",
       "3        4            Waiting to Exhale (1995)   \n",
       "4        5  Father of the Bride Part II (1995)   \n",
       "\n",
       "                                        genres  \n",
       "0  Adventure|Animation|Children|Comedy|Fantasy  \n",
       "1                   Adventure|Children|Fantasy  \n",
       "2                               Comedy|Romance  \n",
       "3                         Comedy|Drama|Romance  \n",
       "4                                       Comedy  "
      ]
     },
     "execution_count": 6,
     "metadata": {},
     "output_type": "execute_result"
    }
   ],
   "source": [
    "df_movies.head()"
   ]
  },
  {
   "cell_type": "code",
   "execution_count": 26,
   "metadata": {},
   "outputs": [
    {
     "data": {
      "text/html": [
       "<div>\n",
       "<style scoped>\n",
       "    .dataframe tbody tr th:only-of-type {\n",
       "        vertical-align: middle;\n",
       "    }\n",
       "\n",
       "    .dataframe tbody tr th {\n",
       "        vertical-align: top;\n",
       "    }\n",
       "\n",
       "    .dataframe thead th {\n",
       "        text-align: right;\n",
       "    }\n",
       "</style>\n",
       "<table border=\"1\" class=\"dataframe\">\n",
       "  <thead>\n",
       "    <tr style=\"text-align: right;\">\n",
       "      <th></th>\n",
       "      <th>movieId</th>\n",
       "      <th>imdbId</th>\n",
       "      <th>tmdbId</th>\n",
       "    </tr>\n",
       "  </thead>\n",
       "  <tbody>\n",
       "    <tr>\n",
       "      <th>0</th>\n",
       "      <td>1</td>\n",
       "      <td>114709</td>\n",
       "      <td>862.0</td>\n",
       "    </tr>\n",
       "    <tr>\n",
       "      <th>1</th>\n",
       "      <td>2</td>\n",
       "      <td>113497</td>\n",
       "      <td>8844.0</td>\n",
       "    </tr>\n",
       "    <tr>\n",
       "      <th>2</th>\n",
       "      <td>3</td>\n",
       "      <td>113228</td>\n",
       "      <td>15602.0</td>\n",
       "    </tr>\n",
       "    <tr>\n",
       "      <th>3</th>\n",
       "      <td>4</td>\n",
       "      <td>114885</td>\n",
       "      <td>31357.0</td>\n",
       "    </tr>\n",
       "    <tr>\n",
       "      <th>4</th>\n",
       "      <td>5</td>\n",
       "      <td>113041</td>\n",
       "      <td>11862.0</td>\n",
       "    </tr>\n",
       "  </tbody>\n",
       "</table>\n",
       "</div>"
      ],
      "text/plain": [
       "   movieId  imdbId   tmdbId\n",
       "0        1  114709    862.0\n",
       "1        2  113497   8844.0\n",
       "2        3  113228  15602.0\n",
       "3        4  114885  31357.0\n",
       "4        5  113041  11862.0"
      ]
     },
     "execution_count": 26,
     "metadata": {},
     "output_type": "execute_result"
    }
   ],
   "source": [
    "df_links.head()"
   ]
  },
  {
   "cell_type": "code",
   "execution_count": 11,
   "metadata": {},
   "outputs": [
    {
     "name": "stdout",
     "output_type": "stream",
     "text": [
      "The movie that has received the maximum number of user ratings is: Forrest Gump (1994)\n"
     ]
    }
   ],
   "source": [
    "merged_df = pd.merge(df_ratings, df_movies, on='movieId')\n",
    "\n",
    "# Group by 'title' and count the number of ratings for each movie\n",
    "ratings_count = merged_df.groupby('title')['rating'].count()\n",
    "\n",
    "# Find the movie with the maximum number of ratings\n",
    "max_rated_movie = ratings_count.idxmax()\n",
    "\n",
    "print(f\"The movie that has received the maximum number of user ratings is: {max_rated_movie}\")"
   ]
  },
  {
   "cell_type": "code",
   "execution_count": 13,
   "metadata": {},
   "outputs": [
    {
     "data": {
      "text/html": [
       "<div>\n",
       "<style scoped>\n",
       "    .dataframe tbody tr th:only-of-type {\n",
       "        vertical-align: middle;\n",
       "    }\n",
       "\n",
       "    .dataframe tbody tr th {\n",
       "        vertical-align: top;\n",
       "    }\n",
       "\n",
       "    .dataframe thead th {\n",
       "        text-align: right;\n",
       "    }\n",
       "</style>\n",
       "<table border=\"1\" class=\"dataframe\">\n",
       "  <thead>\n",
       "    <tr style=\"text-align: right;\">\n",
       "      <th></th>\n",
       "      <th>userId</th>\n",
       "      <th>movieId</th>\n",
       "      <th>tag</th>\n",
       "      <th>timestamp</th>\n",
       "    </tr>\n",
       "  </thead>\n",
       "  <tbody>\n",
       "    <tr>\n",
       "      <th>0</th>\n",
       "      <td>2</td>\n",
       "      <td>60756</td>\n",
       "      <td>funny</td>\n",
       "      <td>1445714994</td>\n",
       "    </tr>\n",
       "    <tr>\n",
       "      <th>1</th>\n",
       "      <td>2</td>\n",
       "      <td>60756</td>\n",
       "      <td>Highly quotable</td>\n",
       "      <td>1445714996</td>\n",
       "    </tr>\n",
       "    <tr>\n",
       "      <th>2</th>\n",
       "      <td>2</td>\n",
       "      <td>60756</td>\n",
       "      <td>will ferrell</td>\n",
       "      <td>1445714992</td>\n",
       "    </tr>\n",
       "    <tr>\n",
       "      <th>3</th>\n",
       "      <td>2</td>\n",
       "      <td>89774</td>\n",
       "      <td>Boxing story</td>\n",
       "      <td>1445715207</td>\n",
       "    </tr>\n",
       "    <tr>\n",
       "      <th>4</th>\n",
       "      <td>2</td>\n",
       "      <td>89774</td>\n",
       "      <td>MMA</td>\n",
       "      <td>1445715200</td>\n",
       "    </tr>\n",
       "  </tbody>\n",
       "</table>\n",
       "</div>"
      ],
      "text/plain": [
       "   userId  movieId              tag   timestamp\n",
       "0       2    60756            funny  1445714994\n",
       "1       2    60756  Highly quotable  1445714996\n",
       "2       2    60756     will ferrell  1445714992\n",
       "3       2    89774     Boxing story  1445715207\n",
       "4       2    89774              MMA  1445715200"
      ]
     },
     "execution_count": 13,
     "metadata": {},
     "output_type": "execute_result"
    }
   ],
   "source": [
    "df_tags.head()"
   ]
  },
  {
   "cell_type": "code",
   "execution_count": null,
   "metadata": {},
   "outputs": [],
   "source": []
  },
  {
   "cell_type": "code",
   "execution_count": 14,
   "metadata": {},
   "outputs": [
    {
     "name": "stdout",
     "output_type": "stream",
     "text": [
      "The correct tags for 'Matrix, The (1999)' are: martial arts, sci-fi, alternate universe, philosophy, post apocalyptic\n"
     ]
    }
   ],
   "source": [
    "# Find the movieId for \"Matrix, The (1999)\"\n",
    "matrix_movie_id = df_movies[df_movies['title'] == 'Matrix, The (1999)']['movieId'].values[0]\n",
    "\n",
    "# Filter tags for \"Matrix, The (1999)\"\n",
    "matrix_tags = df_tags[df_tags['movieId'] == matrix_movie_id]\n",
    "\n",
    "# Display the tags for the specified movie\n",
    "correct_tags = matrix_tags['tag'].unique()\n",
    "print(f\"The correct tags for 'Matrix, The (1999)' are: {', '.join(correct_tags)}\")\n"
   ]
  },
  {
   "cell_type": "code",
   "execution_count": 15,
   "metadata": {},
   "outputs": [
    {
     "name": "stdout",
     "output_type": "stream",
     "text": [
      "The average user rating for 'Terminator 2: Judgment Day (1991)' is: 3.97\n"
     ]
    }
   ],
   "source": [
    "# Find the movieId for \"Terminator 2: Judgment Day (1991)\"\n",
    "terminator2_movie_id = df_movies[df_movies['title'] == 'Terminator 2: Judgment Day (1991)']['movieId'].values[0]\n",
    "\n",
    "# Filter ratings for \"Terminator 2: Judgment Day (1991)\"\n",
    "terminator2_ratings = df_ratings[df_ratings['movieId'] == terminator2_movie_id]\n",
    "\n",
    "# Calculate the average user rating\n",
    "average_rating = terminator2_ratings['rating'].mean()\n",
    "\n",
    "print(f\"The average user rating for 'Terminator 2: Judgment Day (1991)' is: {average_rating:.2f}\")"
   ]
  },
  {
   "cell_type": "code",
   "execution_count": 16,
   "metadata": {},
   "outputs": [
    {
     "data": {
      "image/png": "[encoded data removed]",
      "text/plain": [
       "<Figure size 640x480 with 1 Axes>"
      ]
     },
     "metadata": {},
     "output_type": "display_data"
    }
   ],
   "source": [
    "import pandas as pd\n",
    "import matplotlib.pyplot as plt\n",
    "\n",
    "# Read the movies and ratings datasets\n",
    "df_movies = pd.read_csv('movies.csv')\n",
    "df_ratings = pd.read_csv('ratings.csv')\n",
    "\n",
    "# Find the movieId for \"Fight Club (1999)\"\n",
    "fight_club_movie_id = df_movies[df_movies['title'] == 'Fight Club (1999)']['movieId'].values[0]\n",
    "\n",
    "# Filter ratings for \"Fight Club (1999)\"\n",
    "fight_club_ratings = df_ratings[df_ratings['movieId'] == fight_club_movie_id]\n",
    "\n",
    "# Plot a histogram to visualize the data distribution\n",
    "plt.hist(fight_club_ratings['rating'], bins=[0.5, 1.5, 2.5, 3.5, 4.5, 5.5], edgecolor='black')\n",
    "plt.xlabel('Rating')\n",
    "plt.ylabel('Frequency')\n",
    "plt.title('User Ratings Distribution for Fight Club (1999)')\n",
    "plt.show()\n"
   ]
  },
  {
   "cell_type": "code",
   "execution_count": 49,
   "metadata": {},
   "outputs": [
    {
     "name": "stdout",
     "output_type": "stream",
     "text": [
      "     movieId                                      title  \\\n",
      "0          1                           Toy Story (1995)   \n",
      "1          2                             Jumanji (1995)   \n",
      "2          3                    Grumpier Old Men (1995)   \n",
      "5          6                                Heat (1995)   \n",
      "6          7                             Sabrina (1995)   \n",
      "9         10                           GoldenEye (1995)   \n",
      "10        11             American President, The (1995)   \n",
      "15        16                              Casino (1995)   \n",
      "16        17               Sense and Sensibility (1995)   \n",
      "18        19      Ace Ventura: When Nature Calls (1995)   \n",
      "20        21                          Get Shorty (1995)   \n",
      "24        25                   Leaving Las Vegas (1995)   \n",
      "31        32  Twelve Monkeys (a.k.a. 12 Monkeys) (1995)   \n",
      "32        34                                Babe (1995)   \n",
      "33        36                    Dead Man Walking (1995)   \n",
      "35        39                            Clueless (1995)   \n",
      "43        47                Seven (a.k.a. Se7en) (1995)   \n",
      "44        48                          Pocahontas (1995)   \n",
      "46        50                 Usual Suspects, The (1995)   \n",
      "55        62                  Mr. Holland's Opus (1995)   \n",
      "62        70                 From Dusk Till Dawn (1996)   \n",
      "84        95                        Broken Arrow (1996)   \n",
      "92       104                       Happy Gilmore (1996)   \n",
      "97       110                          Braveheart (1995)   \n",
      "98       111                         Taxi Driver (1976)   \n",
      "116      141                       Birdcage, The (1996)   \n",
      "118      145                            Bad Boys (1995)   \n",
      "123      150                           Apollo 13 (1995)   \n",
      "126      153                      Batman Forever (1995)   \n",
      "131      158                              Casper (1995)   \n",
      "\n",
      "                                          genres  rating_count  rating_mean  \n",
      "0    Adventure|Animation|Children|Comedy|Fantasy           215     3.920930  \n",
      "1                     Adventure|Children|Fantasy           110     3.431818  \n",
      "2                                 Comedy|Romance            52     3.259615  \n",
      "5                          Action|Crime|Thriller           102     3.946078  \n",
      "6                                 Comedy|Romance            54     3.185185  \n",
      "9                      Action|Adventure|Thriller           132     3.496212  \n",
      "10                          Comedy|Drama|Romance            70     3.671429  \n",
      "15                                   Crime|Drama            82     3.926829  \n",
      "16                                 Drama|Romance            67     3.776119  \n",
      "18                                        Comedy            88     2.727273  \n",
      "20                         Comedy|Crime|Thriller            89     3.494382  \n",
      "24                                 Drama|Romance            76     3.625000  \n",
      "31                       Mystery|Sci-Fi|Thriller           177     3.983051  \n",
      "32                                Children|Drama           128     3.652344  \n",
      "33                                   Crime|Drama            67     3.835821  \n",
      "35                                Comedy|Romance           104     3.293269  \n",
      "43                              Mystery|Thriller           203     3.975369  \n",
      "44      Animation|Children|Drama|Musical|Romance            68     3.147059  \n",
      "46                        Crime|Mystery|Thriller           204     4.237745  \n",
      "55                                         Drama            80     3.706250  \n",
      "62                 Action|Comedy|Horror|Thriller            55     3.509091  \n",
      "84                     Action|Adventure|Thriller            84     3.023810  \n",
      "92                                        Comedy            99     3.439394  \n",
      "97                              Action|Drama|War           237     4.031646  \n",
      "98                          Crime|Drama|Thriller           104     4.105769  \n",
      "116                                       Comedy            86     3.494186  \n",
      "118           Action|Comedy|Crime|Drama|Thriller            51     3.245098  \n",
      "123                         Adventure|Drama|IMAX           201     3.845771  \n",
      "126                Action|Adventure|Comedy|Crime           137     2.916058  \n",
      "131                           Adventure|Children            62     2.806452  \n"
     ]
    }
   ],
   "source": [
    "# Group user ratings based on movieId and apply aggregation operations\n",
    "grouped_ratings = df_ratings.groupby('movieId').agg({'rating': ['count', 'mean']})\n",
    "\n",
    "# Rename the columns for clarity\n",
    "grouped_ratings.columns = ['rating_count', 'rating_mean']\n",
    "\n",
    "# Inner join with movies dataframe\n",
    "merged_df = pd.merge(df_movies, grouped_ratings, on='movieId', how='inner')\n",
    "\n",
    "# Filter only those movies with more than 50 user ratings\n",
    "filtered_df = merged_df[merged_df['rating_count'] > 50]\n",
    "\n",
    "# Display the resulting dataframe\n",
    "print(filtered_df.head(30))"
   ]
  },
  {
   "cell_type": "code",
   "execution_count": 50,
   "metadata": {},
   "outputs": [
    {
     "name": "stdout",
     "output_type": "stream",
     "text": [
      "The most popular movie based on average user ratings is: Shawshank Redemption, The (1994) with an average rating of 4.43\n"
     ]
    }
   ],
   "source": [
    "# Find the movie with the highest average user rating\n",
    "most_popular_movie = filtered_df.loc[filtered_df['rating_mean'].idxmax()]\n",
    "\n",
    "print(f\"The most popular movie based on average user ratings is: {most_popular_movie['title']} with an average rating of {most_popular_movie['rating_mean']:.2f}\")\n"
   ]
  },
  {
   "cell_type": "code",
   "execution_count": 51,
   "metadata": {},
   "outputs": [
    {
     "name": "stdout",
     "output_type": "stream",
     "text": [
      "Top 5 popular movies based on number of user ratings:\n",
      "314                  Forrest Gump (1994)\n",
      "277     Shawshank Redemption, The (1994)\n",
      "257                  Pulp Fiction (1994)\n",
      "510     Silence of the Lambs, The (1991)\n",
      "1938                  Matrix, The (1999)\n",
      "Name: title, dtype: object\n"
     ]
    }
   ],
   "source": [
    "# Find the top 5 popular movies based on number of user ratings\n",
    "top_5_popular_movies = filtered_df.nlargest(5, 'rating_count')\n",
    "\n",
    "# Display the titles of the top 5 popular movies\n",
    "print(\"Top 5 popular movies based on number of user ratings:\")\n",
    "print(top_5_popular_movies['title'])\n"
   ]
  },
  {
   "cell_type": "code",
   "execution_count": 52,
   "metadata": {},
   "outputs": [
    {
     "name": "stdout",
     "output_type": "stream",
     "text": [
      "The third most popular Sci-Fi movie based on the number of user ratings is: Jurassic Park (1993) with 238 user ratings.\n"
     ]
    }
   ],
   "source": [
    "# Filter Sci-Fi movies from the filtered dataframe\n",
    "sci_fi_movies = filtered_df[filtered_df['genres'].str.contains('Sci-Fi')]\n",
    "\n",
    "# Find the third most popular Sci-Fi movie based on number of user ratings\n",
    "third_most_popular_sci_fi = sci_fi_movies.nlargest(3, 'rating_count').iloc[-1]\n",
    "\n",
    "print(f\"The third most popular Sci-Fi movie based on the number of user ratings is: {third_most_popular_sci_fi['title']} with {third_most_popular_sci_fi['rating_count']} user ratings.\")\n"
   ]
  },
  {
   "cell_type": "code",
   "execution_count": 53,
   "metadata": {},
   "outputs": [
    {
     "data": {
      "text/html": [
       "<div>\n",
       "<style scoped>\n",
       "    .dataframe tbody tr th:only-of-type {\n",
       "        vertical-align: middle;\n",
       "    }\n",
       "\n",
       "    .dataframe tbody tr th {\n",
       "        vertical-align: top;\n",
       "    }\n",
       "\n",
       "    .dataframe thead th {\n",
       "        text-align: right;\n",
       "    }\n",
       "</style>\n",
       "<table border=\"1\" class=\"dataframe\">\n",
       "  <thead>\n",
       "    <tr style=\"text-align: right;\">\n",
       "      <th></th>\n",
       "      <th>movieId</th>\n",
       "      <th>title</th>\n",
       "      <th>genres</th>\n",
       "      <th>rating_count</th>\n",
       "      <th>rating_mean</th>\n",
       "    </tr>\n",
       "  </thead>\n",
       "  <tbody>\n",
       "    <tr>\n",
       "      <th>0</th>\n",
       "      <td>1</td>\n",
       "      <td>Toy Story (1995)</td>\n",
       "      <td>Adventure|Animation|Children|Comedy|Fantasy</td>\n",
       "      <td>215</td>\n",
       "      <td>3.920930</td>\n",
       "    </tr>\n",
       "    <tr>\n",
       "      <th>1</th>\n",
       "      <td>2</td>\n",
       "      <td>Jumanji (1995)</td>\n",
       "      <td>Adventure|Children|Fantasy</td>\n",
       "      <td>110</td>\n",
       "      <td>3.431818</td>\n",
       "    </tr>\n",
       "    <tr>\n",
       "      <th>2</th>\n",
       "      <td>3</td>\n",
       "      <td>Grumpier Old Men (1995)</td>\n",
       "      <td>Comedy|Romance</td>\n",
       "      <td>52</td>\n",
       "      <td>3.259615</td>\n",
       "    </tr>\n",
       "    <tr>\n",
       "      <th>5</th>\n",
       "      <td>6</td>\n",
       "      <td>Heat (1995)</td>\n",
       "      <td>Action|Crime|Thriller</td>\n",
       "      <td>102</td>\n",
       "      <td>3.946078</td>\n",
       "    </tr>\n",
       "    <tr>\n",
       "      <th>6</th>\n",
       "      <td>7</td>\n",
       "      <td>Sabrina (1995)</td>\n",
       "      <td>Comedy|Romance</td>\n",
       "      <td>54</td>\n",
       "      <td>3.185185</td>\n",
       "    </tr>\n",
       "  </tbody>\n",
       "</table>\n",
       "</div>"
      ],
      "text/plain": [
       "   movieId                    title  \\\n",
       "0        1         Toy Story (1995)   \n",
       "1        2           Jumanji (1995)   \n",
       "2        3  Grumpier Old Men (1995)   \n",
       "5        6              Heat (1995)   \n",
       "6        7           Sabrina (1995)   \n",
       "\n",
       "                                        genres  rating_count  rating_mean  \n",
       "0  Adventure|Animation|Children|Comedy|Fantasy           215     3.920930  \n",
       "1                   Adventure|Children|Fantasy           110     3.431818  \n",
       "2                               Comedy|Romance            52     3.259615  \n",
       "5                        Action|Crime|Thriller           102     3.946078  \n",
       "6                               Comedy|Romance            54     3.185185  "
      ]
     },
     "execution_count": 53,
     "metadata": {},
     "output_type": "execute_result"
    }
   ],
   "source": [
    "filtered_df.head()"
   ]
  },
  {
   "cell_type": "code",
   "execution_count": 54,
   "metadata": {},
   "outputs": [],
   "source": [
    "import requests\n",
    "import numpy as np\n",
    "import pandas as pd\n",
    "from bs4 import BeautifulSoup\n",
    "import json\n",
    "\n",
    "\n",
    "\n",
    "def scrapper(imdbId):\n",
    "    id = str(int(imdbId))\n",
    "    n_zeroes = 7 - len(id)\n",
    "    new_id = \"0\" * n_zeroes + id\n",
    "    URL = f\"https://www.imdb.com/title/tt{new_id}/\"\n",
    "    request_header = {'Content-Type': 'text/html; charset=UTF-8', \n",
    "                      'User-Agent': 'Mozilla/5.0 (Windows NT 10.0; Win64; x64; rv:109.0) Gecko/20100101 Firefox/119.0', \n",
    "                      'Accept-Encoding': 'gzip, deflate, br'}\n",
    "    response = requests.get(URL, headers=request_header)\n",
    "    soup = BeautifulSoup(response.text, 'html.parser')\n",
    "  \n",
    "\n",
    "    # Find the JSON data within the script tag\n",
    "    json_data = soup.find('script', type='application/ld+json').text\n",
    "\n",
    "    # Load the JSON data\n",
    "    data = json.loads(json_data)\n",
    "\n",
    "    # Get the IMDb rating from the JSON data\n",
    "    imdb_rating = data['aggregateRating']['ratingValue']\n",
    "    \n",
    "    \n",
    "    return imdb_rating if imdb_rating else np.nan"
   ]
  },
  {
   "cell_type": "code",
   "execution_count": 55,
   "metadata": {},
   "outputs": [],
   "source": [
    "\n",
    "filtered_df_merged = pd.merge(filtered_df, df_links[['movieId', 'imdbId']], on='movieId', how='inner')\n",
    "\n"
   ]
  },
  {
   "cell_type": "code",
   "execution_count": 56,
   "metadata": {},
   "outputs": [
    {
     "data": {
      "text/html": [
       "<div>\n",
       "<style scoped>\n",
       "    .dataframe tbody tr th:only-of-type {\n",
       "        vertical-align: middle;\n",
       "    }\n",
       "\n",
       "    .dataframe tbody tr th {\n",
       "        vertical-align: top;\n",
       "    }\n",
       "\n",
       "    .dataframe thead th {\n",
       "        text-align: right;\n",
       "    }\n",
       "</style>\n",
       "<table border=\"1\" class=\"dataframe\">\n",
       "  <thead>\n",
       "    <tr style=\"text-align: right;\">\n",
       "      <th></th>\n",
       "      <th>movieId</th>\n",
       "      <th>title</th>\n",
       "      <th>genres</th>\n",
       "      <th>rating_count</th>\n",
       "      <th>rating_mean</th>\n",
       "      <th>imdbId</th>\n",
       "    </tr>\n",
       "  </thead>\n",
       "  <tbody>\n",
       "    <tr>\n",
       "      <th>0</th>\n",
       "      <td>1</td>\n",
       "      <td>Toy Story (1995)</td>\n",
       "      <td>Adventure|Animation|Children|Comedy|Fantasy</td>\n",
       "      <td>215</td>\n",
       "      <td>3.920930</td>\n",
       "      <td>114709</td>\n",
       "    </tr>\n",
       "    <tr>\n",
       "      <th>1</th>\n",
       "      <td>2</td>\n",
       "      <td>Jumanji (1995)</td>\n",
       "      <td>Adventure|Children|Fantasy</td>\n",
       "      <td>110</td>\n",
       "      <td>3.431818</td>\n",
       "      <td>113497</td>\n",
       "    </tr>\n",
       "    <tr>\n",
       "      <th>2</th>\n",
       "      <td>3</td>\n",
       "      <td>Grumpier Old Men (1995)</td>\n",
       "      <td>Comedy|Romance</td>\n",
       "      <td>52</td>\n",
       "      <td>3.259615</td>\n",
       "      <td>113228</td>\n",
       "    </tr>\n",
       "    <tr>\n",
       "      <th>3</th>\n",
       "      <td>6</td>\n",
       "      <td>Heat (1995)</td>\n",
       "      <td>Action|Crime|Thriller</td>\n",
       "      <td>102</td>\n",
       "      <td>3.946078</td>\n",
       "      <td>113277</td>\n",
       "    </tr>\n",
       "    <tr>\n",
       "      <th>4</th>\n",
       "      <td>7</td>\n",
       "      <td>Sabrina (1995)</td>\n",
       "      <td>Comedy|Romance</td>\n",
       "      <td>54</td>\n",
       "      <td>3.185185</td>\n",
       "      <td>114319</td>\n",
       "    </tr>\n",
       "  </tbody>\n",
       "</table>\n",
       "</div>"
      ],
      "text/plain": [
       "   movieId                    title  \\\n",
       "0        1         Toy Story (1995)   \n",
       "1        2           Jumanji (1995)   \n",
       "2        3  Grumpier Old Men (1995)   \n",
       "3        6              Heat (1995)   \n",
       "4        7           Sabrina (1995)   \n",
       "\n",
       "                                        genres  rating_count  rating_mean  \\\n",
       "0  Adventure|Animation|Children|Comedy|Fantasy           215     3.920930   \n",
       "1                   Adventure|Children|Fantasy           110     3.431818   \n",
       "2                               Comedy|Romance            52     3.259615   \n",
       "3                        Action|Crime|Thriller           102     3.946078   \n",
       "4                               Comedy|Romance            54     3.185185   \n",
       "\n",
       "   imdbId  \n",
       "0  114709  \n",
       "1  113497  \n",
       "2  113228  \n",
       "3  113277  \n",
       "4  114319  "
      ]
     },
     "execution_count": 56,
     "metadata": {},
     "output_type": "execute_result"
    }
   ],
   "source": [
    "filtered_df_merged.head()"
   ]
  },
  {
   "cell_type": "code",
   "execution_count": 57,
   "metadata": {},
   "outputs": [],
   "source": [
    "# Apply the scrapper function to the merged dataset\n",
    "filtered_df_merged['imdb_rating'] = filtered_df_merged['imdbId'].apply(scrapper)"
   ]
  },
  {
   "cell_type": "code",
   "execution_count": 58,
   "metadata": {},
   "outputs": [
    {
     "data": {
      "text/html": [
       "<div>\n",
       "<style scoped>\n",
       "    .dataframe tbody tr th:only-of-type {\n",
       "        vertical-align: middle;\n",
       "    }\n",
       "\n",
       "    .dataframe tbody tr th {\n",
       "        vertical-align: top;\n",
       "    }\n",
       "\n",
       "    .dataframe thead th {\n",
       "        text-align: right;\n",
       "    }\n",
       "</style>\n",
       "<table border=\"1\" class=\"dataframe\">\n",
       "  <thead>\n",
       "    <tr style=\"text-align: right;\">\n",
       "      <th></th>\n",
       "      <th>movieId</th>\n",
       "      <th>title</th>\n",
       "      <th>genres</th>\n",
       "      <th>rating_count</th>\n",
       "      <th>rating_mean</th>\n",
       "      <th>imdbId</th>\n",
       "      <th>imdb_rating</th>\n",
       "    </tr>\n",
       "  </thead>\n",
       "  <tbody>\n",
       "    <tr>\n",
       "      <th>0</th>\n",
       "      <td>1</td>\n",
       "      <td>Toy Story (1995)</td>\n",
       "      <td>Adventure|Animation|Children|Comedy|Fantasy</td>\n",
       "      <td>215</td>\n",
       "      <td>3.920930</td>\n",
       "      <td>114709</td>\n",
       "      <td>8.3</td>\n",
       "    </tr>\n",
       "    <tr>\n",
       "      <th>1</th>\n",
       "      <td>2</td>\n",
       "      <td>Jumanji (1995)</td>\n",
       "      <td>Adventure|Children|Fantasy</td>\n",
       "      <td>110</td>\n",
       "      <td>3.431818</td>\n",
       "      <td>113497</td>\n",
       "      <td>7.1</td>\n",
       "    </tr>\n",
       "    <tr>\n",
       "      <th>2</th>\n",
       "      <td>3</td>\n",
       "      <td>Grumpier Old Men (1995)</td>\n",
       "      <td>Comedy|Romance</td>\n",
       "      <td>52</td>\n",
       "      <td>3.259615</td>\n",
       "      <td>113228</td>\n",
       "      <td>6.6</td>\n",
       "    </tr>\n",
       "    <tr>\n",
       "      <th>3</th>\n",
       "      <td>6</td>\n",
       "      <td>Heat (1995)</td>\n",
       "      <td>Action|Crime|Thriller</td>\n",
       "      <td>102</td>\n",
       "      <td>3.946078</td>\n",
       "      <td>113277</td>\n",
       "      <td>8.3</td>\n",
       "    </tr>\n",
       "    <tr>\n",
       "      <th>4</th>\n",
       "      <td>7</td>\n",
       "      <td>Sabrina (1995)</td>\n",
       "      <td>Comedy|Romance</td>\n",
       "      <td>54</td>\n",
       "      <td>3.185185</td>\n",
       "      <td>114319</td>\n",
       "      <td>6.3</td>\n",
       "    </tr>\n",
       "  </tbody>\n",
       "</table>\n",
       "</div>"
      ],
      "text/plain": [
       "   movieId                    title  \\\n",
       "0        1         Toy Story (1995)   \n",
       "1        2           Jumanji (1995)   \n",
       "2        3  Grumpier Old Men (1995)   \n",
       "3        6              Heat (1995)   \n",
       "4        7           Sabrina (1995)   \n",
       "\n",
       "                                        genres  rating_count  rating_mean  \\\n",
       "0  Adventure|Animation|Children|Comedy|Fantasy           215     3.920930   \n",
       "1                   Adventure|Children|Fantasy           110     3.431818   \n",
       "2                               Comedy|Romance            52     3.259615   \n",
       "3                        Action|Crime|Thriller           102     3.946078   \n",
       "4                               Comedy|Romance            54     3.185185   \n",
       "\n",
       "   imdbId  imdb_rating  \n",
       "0  114709          8.3  \n",
       "1  113497          7.1  \n",
       "2  113228          6.6  \n",
       "3  113277          8.3  \n",
       "4  114319          6.3  "
      ]
     },
     "execution_count": 58,
     "metadata": {},
     "output_type": "execute_result"
    }
   ],
   "source": [
    "filtered_df_merged.head()"
   ]
  },
  {
   "cell_type": "code",
   "execution_count": 60,
   "metadata": {},
   "outputs": [
    {
     "name": "stdout",
     "output_type": "stream",
     "text": [
      "The movieId of the movie with the highest IMDB rating is: 318 with an IMDB rating of 9.3\n"
     ]
    }
   ],
   "source": [
    "# Find the movieId with the highest IMDB rating\n",
    "highest_rated_movie = filtered_df_merged.loc[filtered_df_merged['imdb_rating'].idxmax()]\n",
    "\n",
    "print(f\"The movieId of the movie with the highest IMDB rating is: {highest_rated_movie['movieId']} with an IMDB rating of {highest_rated_movie['imdb_rating']}\")\n"
   ]
  },
  {
   "cell_type": "code",
   "execution_count": 62,
   "metadata": {},
   "outputs": [
    {
     "name": "stdout",
     "output_type": "stream",
     "text": [
      "MovieId of the Sci-Fi movie with the highest IMDb rating: 79132\n"
     ]
    }
   ],
   "source": [
    "# Filter the subset for Sci-Fi genre\n",
    "scifi_movies = filtered_df_merged[filtered_df_merged['genres'].str.contains('Sci-Fi', case=False, na=False)]\n",
    "\n",
    "# Find the movie with the highest IMDb rating\n",
    "highest_rated_scifi_movie = scifi_movies.loc[scifi_movies['imdb_rating'].idxmax()]\n",
    "\n",
    "# Print the movieId of the highest rated Sci-Fi movie\n",
    "print(\"MovieId of the Sci-Fi movie with the highest IMDb rating:\", highest_rated_scifi_movie['movieId'])\n"
   ]
  },
  {
   "cell_type": "code",
   "execution_count": null,
   "metadata": {},
   "outputs": [],
   "source": []
  }
 ],
 "metadata": {
  "kernelspec": {
   "display_name": "myenv",
   "language": "python",
   "name": "python3"
  },
  "language_info": {
   "codemirror_mode": {
    "name": "ipython",
    "version": 3
   },
   "file_extension": ".py",
   "mimetype": "text/x-python",
   "name": "python",
   "nbconvert_exporter": "python",
   "pygments_lexer": "ipython3",
   "version": "3.10.13"
  }
 },
 "nbformat": 4,
 "nbformat_minor": 2
}
